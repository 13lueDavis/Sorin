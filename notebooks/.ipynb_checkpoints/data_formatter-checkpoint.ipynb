{
 "cells": [
  {
   "cell_type": "code",
   "execution_count": 8,
   "metadata": {},
   "outputs": [],
   "source": [
    "import pandas as pd\n",
    "import numpy as np\n",
    "import datetime\n",
    "import glob"
   ]
  },
  {
   "cell_type": "code",
   "execution_count": null,
   "metadata": {},
   "outputs": [],
   "source": [
    "symbol = 'LRCX'\n",
    "\n",
    "filename = glob.glob(\"../raw_data/{}*.csv\".format(symbol))[0].split('/')[2]"
   ]
  },
  {
   "cell_type": "code",
   "execution_count": 4,
   "metadata": {},
   "outputs": [
    {
     "name": "stdout",
     "output_type": "stream",
     "text": [
      "Size:  1052640  datapoints\n",
      "                        Open     High      Low    Close  Volume\n",
      "Date Time                                                      \n",
      "2018-01-01 00:00:00  184.108  184.108  184.108  184.108     0.0\n",
      "2018-01-01 00:01:00  184.108  184.108  184.108  184.108     0.0\n",
      "2018-01-01 00:02:00  184.108  184.108  184.108  184.108     0.0\n",
      "2018-01-01 00:03:00  184.108  184.108  184.108  184.108     0.0\n",
      "2018-01-01 00:04:00  184.108  184.108  184.108  184.108     0.0\n",
      "                        Open     High      Low    Close  Volume\n",
      "Date Time                                                      \n",
      "2020-01-01 23:55:00  292.308  292.308  292.308  292.308     0.0\n",
      "2020-01-01 23:56:00  292.308  292.308  292.308  292.308     0.0\n",
      "2020-01-01 23:57:00  292.308  292.308  292.308  292.308     0.0\n",
      "2020-01-01 23:58:00  292.308  292.308  292.308  292.308     0.0\n",
      "2020-01-01 23:59:00  292.308  292.308  292.308  292.308     0.0\n"
     ]
    }
   ],
   "source": [
    "data = pd.read_csv('../raw_data/'+filename)\n",
    "print('Size: ', data.shape[0], ' datapoints')\n",
    "\n",
    "data = data.rename(columns={'Local time' : 'Date Time'})\n",
    "data['Date Time'] = data['Date Time'].apply(lambda d: datetime.datetime.strptime(d[:-14], '%d.%m.%Y %H:%M:%S').strftime('%Y-%m-%d %H:%M:%S'))\n",
    "data = data.set_index('Date Time')\n",
    "\n",
    "print(data.head())\n",
    "print(data.tail())"
   ]
  },
  {
   "cell_type": "code",
   "execution_count": 5,
   "metadata": {},
   "outputs": [],
   "source": [
    "def isTrading(data):\n",
    "    truth = np.array([dp.weekday() not in [5,6] for dp in data])\n",
    "    truth = np.vstack((truth, data.hour < 14))\n",
    "    truth = np.vstack((truth, np.vstack((data.hour > 7, np.vstack((data.hour == 7, data.minute >= 30)).all(axis=0))).any(axis=0)))\n",
    "                                 \n",
    "    return truth.all(axis=0)\n",
    "\n",
    "dateTimes = pd.to_datetime(data.index)\n",
    "tradingIdxs = isTrading(dateTimes)"
   ]
  },
  {
   "cell_type": "code",
   "execution_count": 6,
   "metadata": {},
   "outputs": [
    {
     "name": "stdout",
     "output_type": "stream",
     "text": [
      "                        Open     High      Low    Close  Volume\n",
      "Date Time                                                      \n",
      "2018-01-01 07:30:00  184.108  184.108  184.108  184.108     0.0\n",
      "2018-01-01 07:31:00  184.108  184.108  184.108  184.108     0.0\n",
      "2018-01-01 07:32:00  184.108  184.108  184.108  184.108     0.0\n",
      "2018-01-01 07:33:00  184.108  184.108  184.108  184.108     0.0\n",
      "2018-01-01 07:34:00  184.108  184.108  184.108  184.108     0.0\n",
      "                        Open     High      Low    Close  Volume\n",
      "Date Time                                                      \n",
      "2020-01-01 13:55:00  292.308  292.308  292.308  292.308     0.0\n",
      "2020-01-01 13:56:00  292.308  292.308  292.308  292.308     0.0\n",
      "2020-01-01 13:57:00  292.308  292.308  292.308  292.308     0.0\n",
      "2020-01-01 13:58:00  292.308  292.308  292.308  292.308     0.0\n",
      "2020-01-01 13:59:00  292.308  292.308  292.308  292.308     0.0\n"
     ]
    }
   ],
   "source": [
    "tradingData = data[tradingIdxs]\n",
    "print(tradingData.head())\n",
    "print(tradingData.tail())"
   ]
  },
  {
   "cell_type": "code",
   "execution_count": 16,
   "metadata": {},
   "outputs": [],
   "source": [
    "tradingData.to_csv('../clean_data/'+filename)"
   ]
  }
 ],
 "metadata": {
  "kernelspec": {
   "display_name": "Python 3",
   "language": "python",
   "name": "python3"
  },
  "language_info": {
   "codemirror_mode": {
    "name": "ipython",
    "version": 3
   },
   "file_extension": ".py",
   "mimetype": "text/x-python",
   "name": "python",
   "nbconvert_exporter": "python",
   "pygments_lexer": "ipython3",
   "version": "3.7.0"
  }
 },
 "nbformat": 4,
 "nbformat_minor": 4
}
