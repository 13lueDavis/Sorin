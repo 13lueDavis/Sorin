{
 "cells": [
  {
   "cell_type": "code",
   "execution_count": 4,
   "metadata": {},
   "outputs": [],
   "source": [
    "from __future__ import print_function\n",
    "\n",
    "import pyalgotrade\n",
    "from pyalgotrade import barfeed\n",
    "from pyalgotrade.barfeed import csvfeed\n",
    "from pyalgotrade import strategy\n",
    "from pyalgotrade.technical import ma\n",
    "from pyalgotrade.technical import cross\n",
    "from pyalgotrade.stratanalyzer import returns\n",
    "from pyalgotrade import plotter\n",
    "\n",
    "import matplotlib as mpl\n",
    "import matplotlib.pyplot as plt"
   ]
  },
  {
   "cell_type": "code",
   "execution_count": 5,
   "metadata": {},
   "outputs": [],
   "source": [
    "COLOR = '#ffffff'\n",
    "mpl.rcParams['text.color'] = COLOR\n",
    "mpl.rcParams['axes.labelcolor'] = COLOR\n",
    "mpl.rcParams['xtick.color'] = COLOR\n",
    "mpl.rcParams['ytick.color'] = COLOR\n",
    "mpl.rcParams['figure.facecolor'] = '#111111'\n",
    "mpl.rcParams['axes.facecolor'] = '#111111'\n",
    "mpl.rcParams['axes.grid'] = True\n",
    "mpl.rcParams['grid.color'] = '#222222'\n",
    "mpl.rcParams['grid.linestyle'] = '-'\n",
    "mpl.rcParams['axes.edgecolor'] = 'white'"
   ]
  },
  {
   "cell_type": "code",
   "execution_count": 6,
   "metadata": {},
   "outputs": [],
   "source": [
    "feed = csvfeed.GenericBarFeed(barfeed.Frequency.MINUTE, timezone=None, maxLen=1024)\n",
    "feed.addBarsFromCSV('MSFT', '../clean_data/MSFT.USUSD_Candlestick_1_M_BID_26.01.2017-01.01.2020.csv')"
   ]
  },
  {
   "cell_type": "code",
   "execution_count": 7,
   "metadata": {},
   "outputs": [],
   "source": [
    "class SMACrossOver(strategy.BacktestingStrategy):\n",
    "    def __init__(self, feed, instrument, smaPeriod):\n",
    "        strategy.BacktestingStrategy.__init__(self, feed)\n",
    "        self.__instrument = instrument\n",
    "        self.__position = None\n",
    "        \n",
    "        self.getBroker().getFillStrategy().setVolumeLimit(None)\n",
    "        self.prices = feed[instrument].getPriceDataSeries()\n",
    "        self.sma = ma.SMA(self.prices, smaPeriod)\n",
    "\n",
    "    def getSMA(self):\n",
    "        return self.__sma\n",
    "\n",
    "    def onEnterCanceled(self, position):\n",
    "        self.__position = None\n",
    "\n",
    "    def onExitOk(self, position):\n",
    "        self.__position = None\n",
    "\n",
    "    def onExitCanceled(self, position):\n",
    "        # If the exit was canceled, re-submit it.\n",
    "        self.__position.exitMarket()\n",
    "\n",
    "    def onBars(self, bars):\n",
    "        # If a position was not opened, check if we should enter a long position.\n",
    "        if self.__position is None:\n",
    "            if cross.cross_above(self.prices, self.sma) > 0:\n",
    "                shares = int(self.getBroker().getCash() * 0.9 / bars[self.__instrument].getPrice())\n",
    "                # Enter a buy market order. The order is good till canceled.\n",
    "                self.__position = self.enterLong(self.__instrument, shares, True)\n",
    "        # Check if we have to exit the position.\n",
    "        elif not self.__position.exitActive() and cross.cross_below(self.prices, self.sma) > 0:\n",
    "            self.__position.exitMarket()"
   ]
  },
  {
   "cell_type": "code",
   "execution_count": 8,
   "metadata": {},
   "outputs": [
    {
     "name": "stderr",
     "output_type": "stream",
     "text": [
      "Traceback (most recent call last):\n",
      "  File \"/Library/Frameworks/Python.framework/Versions/3.7/lib/python3.7/site-packages/matplotlib/cbook/__init__.py\", line 216, in process\n",
      "    func(*args, **kwargs)\n",
      "  File \"/Library/Frameworks/Python.framework/Versions/3.7/lib/python3.7/site-packages/matplotlib/animation.py\", line 953, in _start\n",
      "    self._init_draw()\n",
      "  File \"/Library/Frameworks/Python.framework/Versions/3.7/lib/python3.7/site-packages/matplotlib/animation.py\", line 1732, in _init_draw\n",
      "    self._draw_frame(next(self.new_frame_seq()))\n",
      "  File \"/Library/Frameworks/Python.framework/Versions/3.7/lib/python3.7/site-packages/matplotlib/animation.py\", line 1755, in _draw_frame\n",
      "    self._drawn_artists = self._func(framedata, *self._args)\n",
      "  File \"<ipython-input-8-74861f0c0c73>\", line 9, in animate\n",
      "    pullData = open(\"sampleText.txt\",\"r\").read()\n",
      "FileNotFoundError: [Errno 2] No such file or directory: 'sampleText.txt'\n"
     ]
    },
    {
     "data": {
      "image/png": "[encoded data removed]",
      "text/plain": [
       "<Figure size 432x288 with 1 Axes>"
      ]
     },
     "metadata": {},
     "output_type": "display_data"
    }
   ],
   "source": [
    "import matplotlib.pyplot as plt\n",
    "import matplotlib.animation as animation\n",
    "import time\n",
    "\n",
    "fig = plt.figure()\n",
    "ax1 = fig.add_subplot(1,1,1)\n",
    "\n",
    "def animate(i):\n",
    "    pullData = open(\"sampleText.txt\",\"r\").read()\n",
    "    dataArray = pullData.split('\\n')\n",
    "    xar = []\n",
    "    yar = []\n",
    "    for eachLine in dataArray:\n",
    "        if len(eachLine)>1:\n",
    "            x,y = eachLine.split(',')\n",
    "            xar.append(int(x))\n",
    "            yar.append(int(y))\n",
    "    ax1.clear()\n",
    "    ax1.plot(xar,yar)\n",
    "ani = animation.FuncAnimation(fig, animate, interval=1000)\n",
    "plt.show()"
   ]
  },
  {
   "cell_type": "code",
   "execution_count": null,
   "metadata": {},
   "outputs": [],
   "source": []
  },
  {
   "cell_type": "code",
   "execution_count": 11,
   "metadata": {},
   "outputs": [
    {
     "data": {
      "text/plain": [
       "['LOGGER_NAME',\n",
       " '_BacktestingStrategy__useAdjustedValues',\n",
       " '_BaseStrategy__activePositions',\n",
       " '_BaseStrategy__analyzers',\n",
       " '_BaseStrategy__barFeed',\n",
       " '_BaseStrategy__barsProcessedEvent',\n",
       " '_BaseStrategy__broker',\n",
       " '_BaseStrategy__dispatcher',\n",
       " '_BaseStrategy__logger',\n",
       " '_BaseStrategy__namedAnalyzers',\n",
       " '_BaseStrategy__notifyAnalyzers',\n",
       " '_BaseStrategy__onBars',\n",
       " '_BaseStrategy__onIdle',\n",
       " '_BaseStrategy__onOrderEvent',\n",
       " '_BaseStrategy__orderToPosition',\n",
       " '_BaseStrategy__resampledBarFeeds',\n",
       " '_SMACrossOver__instrument',\n",
       " '_SMACrossOver__position',\n",
       " '__abstractmethods__',\n",
       " '__class__',\n",
       " '__delattr__',\n",
       " '__dict__',\n",
       " '__dir__',\n",
       " '__doc__',\n",
       " '__eq__',\n",
       " '__format__',\n",
       " '__ge__',\n",
       " '__getattribute__',\n",
       " '__gt__',\n",
       " '__hash__',\n",
       " '__init__',\n",
       " '__init_subclass__',\n",
       " '__le__',\n",
       " '__lt__',\n",
       " '__module__',\n",
       " '__ne__',\n",
       " '__new__',\n",
       " '__reduce__',\n",
       " '__reduce_ex__',\n",
       " '__repr__',\n",
       " '__setattr__',\n",
       " '__sizeof__',\n",
       " '__str__',\n",
       " '__subclasshook__',\n",
       " '__weakref__',\n",
       " '_abc_impl',\n",
       " '_setBroker',\n",
       " 'attachAnalyzer',\n",
       " 'attachAnalyzerEx',\n",
       " 'critical',\n",
       " 'debug',\n",
       " 'enterLong',\n",
       " 'enterLongLimit',\n",
       " 'enterLongStop',\n",
       " 'enterLongStopLimit',\n",
       " 'enterShort',\n",
       " 'enterShortLimit',\n",
       " 'enterShortStop',\n",
       " 'enterShortStopLimit',\n",
       " 'error',\n",
       " 'getActivePositions',\n",
       " 'getBarsProcessedEvent',\n",
       " 'getBroker',\n",
       " 'getCurrentDateTime',\n",
       " 'getDispatcher',\n",
       " 'getFeed',\n",
       " 'getLastPrice',\n",
       " 'getLogger',\n",
       " 'getNamedAnalyzer',\n",
       " 'getOrderToPosition',\n",
       " 'getResult',\n",
       " 'getSMA',\n",
       " 'getUseAdjustedValues',\n",
       " 'info',\n",
       " 'limitOrder',\n",
       " 'marketOrder',\n",
       " 'onBars',\n",
       " 'onEnterCanceled',\n",
       " 'onEnterOk',\n",
       " 'onExitCanceled',\n",
       " 'onExitOk',\n",
       " 'onFinish',\n",
       " 'onIdle',\n",
       " 'onOrderUpdated',\n",
       " 'onStart',\n",
       " 'prices',\n",
       " 'registerPositionOrder',\n",
       " 'resampleBarFeed',\n",
       " 'run',\n",
       " 'setDebugMode',\n",
       " 'setUseAdjustedValues',\n",
       " 'setUseEventDateTimeInLogs',\n",
       " 'sma',\n",
       " 'stop',\n",
       " 'stopLimitOrder',\n",
       " 'stopOrder',\n",
       " 'unregisterPosition',\n",
       " 'unregisterPositionOrder',\n",
       " 'warning']"
      ]
     },
     "execution_count": 11,
     "metadata": {},
     "output_type": "execute_result"
    }
   ],
   "source": [
    "dir(myStrategy)"
   ]
  },
  {
   "cell_type": "code",
   "execution_count": null,
   "metadata": {},
   "outputs": [],
   "source": [
    "def runAndPlot(self):\n",
    "    \n",
    "    animation.FuncAnimation(fig, self.updatePlots, interval=1000)\n",
    "    \n",
    "    try:\n",
    "        for subject in self.__subjects:\n",
    "            subject.start()\n",
    "\n",
    "        self.__startEvent.emit()\n",
    "\n",
    "        while not self.__stop:\n",
    "            eof, eventsDispatched = self.__dispatch()\n",
    "            if eof:\n",
    "                self.__stop = True\n",
    "            elif not eventsDispatched:\n",
    "                self.__idleEvent.emit()\n",
    "    finally:\n",
    "        # There are no more events.\n",
    "        self.__currDateTime = None\n",
    "\n",
    "        for subject in self.__subjects:\n",
    "            subject.stop()\n",
    "        for subject in self.__subjects:\n",
    "            subject.join()\n",
    "\n",
    "setattr(backtest, 'runAndPlot', runAndPlot)"
   ]
  },
  {
   "cell_type": "code",
   "execution_count": 13,
   "metadata": {},
   "outputs": [
    {
     "data": {
      "text/plain": [
       "['LOGGER_NAME',\n",
       " '_BaseStrategy__notifyAnalyzers',\n",
       " '_BaseStrategy__onBars',\n",
       " '_BaseStrategy__onIdle',\n",
       " '_BaseStrategy__onOrderEvent',\n",
       " '__abstractmethods__',\n",
       " '__class__',\n",
       " '__delattr__',\n",
       " '__dict__',\n",
       " '__dir__',\n",
       " '__doc__',\n",
       " '__eq__',\n",
       " '__format__',\n",
       " '__ge__',\n",
       " '__getattribute__',\n",
       " '__gt__',\n",
       " '__hash__',\n",
       " '__init__',\n",
       " '__init_subclass__',\n",
       " '__le__',\n",
       " '__lt__',\n",
       " '__module__',\n",
       " '__ne__',\n",
       " '__new__',\n",
       " '__reduce__',\n",
       " '__reduce_ex__',\n",
       " '__repr__',\n",
       " '__setattr__',\n",
       " '__sizeof__',\n",
       " '__str__',\n",
       " '__subclasshook__',\n",
       " '__weakref__',\n",
       " '_abc_impl',\n",
       " '_setBroker',\n",
       " 'attachAnalyzer',\n",
       " 'attachAnalyzerEx',\n",
       " 'critical',\n",
       " 'debug',\n",
       " 'enterLong',\n",
       " 'enterLongLimit',\n",
       " 'enterLongStop',\n",
       " 'enterLongStopLimit',\n",
       " 'enterShort',\n",
       " 'enterShortLimit',\n",
       " 'enterShortStop',\n",
       " 'enterShortStopLimit',\n",
       " 'error',\n",
       " 'getActivePositions',\n",
       " 'getBarsProcessedEvent',\n",
       " 'getBroker',\n",
       " 'getCurrentDateTime',\n",
       " 'getDispatcher',\n",
       " 'getFeed',\n",
       " 'getLastPrice',\n",
       " 'getLogger',\n",
       " 'getNamedAnalyzer',\n",
       " 'getOrderToPosition',\n",
       " 'getResult',\n",
       " 'getSMA',\n",
       " 'getUseAdjustedValues',\n",
       " 'info',\n",
       " 'limitOrder',\n",
       " 'marketOrder',\n",
       " 'onBars',\n",
       " 'onEnterCanceled',\n",
       " 'onEnterOk',\n",
       " 'onExitCanceled',\n",
       " 'onExitOk',\n",
       " 'onFinish',\n",
       " 'onIdle',\n",
       " 'onOrderUpdated',\n",
       " 'onStart',\n",
       " 'registerPositionOrder',\n",
       " 'resampleBarFeed',\n",
       " 'run',\n",
       " 'setDebugMode',\n",
       " 'setUseAdjustedValues',\n",
       " 'setUseEventDateTimeInLogs',\n",
       " 'stop',\n",
       " 'stopLimitOrder',\n",
       " 'stopOrder',\n",
       " 'unregisterPosition',\n",
       " 'unregisterPositionOrder',\n",
       " 'warning']"
      ]
     },
     "execution_count": 13,
     "metadata": {},
     "output_type": "execute_result"
    }
   ],
   "source": [
    "dir(SMACrossOver)"
   ]
  },
  {
   "cell_type": "code",
   "execution_count": 39,
   "metadata": {},
   "outputs": [
    {
     "data": {
      "text/plain": [
       "['LOGGER_NAME',\n",
       " '__abstractmethods__',\n",
       " '__dict__',\n",
       " '__doc__',\n",
       " '__module__',\n",
       " '__weakref__',\n",
       " '_abc_impl']"
      ]
     },
     "execution_count": 39,
     "metadata": {},
     "output_type": "execute_result"
    }
   ],
   "source": [
    "[attr for attr in dir(strategy.BacktestingStrategy) if not callable(getattr(strategy.BacktestingStrategy, attr))]"
   ]
  },
  {
   "cell_type": "code",
   "execution_count": 43,
   "metadata": {},
   "outputs": [],
   "source": [
    "strat = strategy.BacktestingStrategy"
   ]
  },
  {
   "cell_type": "code",
   "execution_count": 45,
   "metadata": {},
   "outputs": [
    {
     "ename": "AttributeError",
     "evalue": "type object 'BacktestingStrategy' has no attribute '__barFeed'",
     "output_type": "error",
     "traceback": [
      "\u001b[0;31m---------------------------------------------------------------------------\u001b[0m",
      "\u001b[0;31mAttributeError\u001b[0m                            Traceback (most recent call last)",
      "\u001b[0;32m<ipython-input-45-112f2c5d1e7a>\u001b[0m in \u001b[0;36m<module>\u001b[0;34m\u001b[0m\n\u001b[0;32m----> 1\u001b[0;31m \u001b[0mstrat\u001b[0m\u001b[0;34m.\u001b[0m\u001b[0m__barFeed\u001b[0m\u001b[0;34m\u001b[0m\u001b[0m\n\u001b[0m",
      "\u001b[0;31mAttributeError\u001b[0m: type object 'BacktestingStrategy' has no attribute '__barFeed'"
     ]
    }
   ],
   "source": [
    "strat.__barFeed"
   ]
  },
  {
   "cell_type": "code",
   "execution_count": 10,
   "metadata": {},
   "outputs": [],
   "source": [
    "myStrategy = SMACrossOver(feed, 'MSFT', 20)\n",
    "\n",
    "# returnsAnalyzer = returns.Returns()\n",
    "# myStrategy.attachAnalyzer(returnsAnalyzer)\n",
    "\n",
    "# plt.figure(figsize=(15,6))\n",
    "# stratPlt = plotter.StrategyPlotter(myStrategy)\n",
    "# stratPlt.getOrCreateSubplot(\"returns\").addDataSeries(\"Simple returns\", returnsAnalyzer.getReturns())\n",
    "\n",
    "# myStrategy.run()\n",
    "# myStrategy.info(\"Final portfolio value: $%.2f\" % myStrategy.getResult())\n",
    "\n",
    "# stratPlt.plot()"
   ]
  },
  {
   "cell_type": "code",
   "execution_count": 50,
   "metadata": {},
   "outputs": [
    {
     "data": {
      "text/plain": [
       "<bound method Dispatcher.run of <pyalgotrade.dispatcher.Dispatcher object at 0x12330e5f8>>"
      ]
     },
     "execution_count": 50,
     "metadata": {},
     "output_type": "execute_result"
    }
   ],
   "source": [
    "myStrategy._BaseStrategy__dispatcher.run"
   ]
  },
  {
   "cell_type": "code",
   "execution_count": 49,
   "metadata": {},
   "outputs": [
    {
     "data": {
      "text/plain": [
       "['LOGGER_NAME',\n",
       " '_BacktestingStrategy__useAdjustedValues',\n",
       " '_BaseStrategy__activePositions',\n",
       " '_BaseStrategy__analyzers',\n",
       " '_BaseStrategy__barFeed',\n",
       " '_BaseStrategy__barsProcessedEvent',\n",
       " '_BaseStrategy__broker',\n",
       " '_BaseStrategy__dispatcher',\n",
       " '_BaseStrategy__logger',\n",
       " '_BaseStrategy__namedAnalyzers',\n",
       " '_BaseStrategy__notifyAnalyzers',\n",
       " '_BaseStrategy__onBars',\n",
       " '_BaseStrategy__onIdle',\n",
       " '_BaseStrategy__onOrderEvent',\n",
       " '_BaseStrategy__orderToPosition',\n",
       " '_BaseStrategy__resampledBarFeeds',\n",
       " '_SMACrossOver__instrument',\n",
       " '_SMACrossOver__position',\n",
       " '__abstractmethods__',\n",
       " '__class__',\n",
       " '__delattr__',\n",
       " '__dict__',\n",
       " '__dir__',\n",
       " '__doc__',\n",
       " '__eq__',\n",
       " '__format__',\n",
       " '__ge__',\n",
       " '__getattribute__',\n",
       " '__gt__',\n",
       " '__hash__',\n",
       " '__init__',\n",
       " '__init_subclass__',\n",
       " '__le__',\n",
       " '__lt__',\n",
       " '__module__',\n",
       " '__ne__',\n",
       " '__new__',\n",
       " '__reduce__',\n",
       " '__reduce_ex__',\n",
       " '__repr__',\n",
       " '__setattr__',\n",
       " '__sizeof__',\n",
       " '__str__',\n",
       " '__subclasshook__',\n",
       " '__weakref__',\n",
       " '_abc_impl',\n",
       " '_setBroker',\n",
       " 'attachAnalyzer',\n",
       " 'attachAnalyzerEx',\n",
       " 'critical',\n",
       " 'debug',\n",
       " 'enterLong',\n",
       " 'enterLongLimit',\n",
       " 'enterLongStop',\n",
       " 'enterLongStopLimit',\n",
       " 'enterShort',\n",
       " 'enterShortLimit',\n",
       " 'enterShortStop',\n",
       " 'enterShortStopLimit',\n",
       " 'error',\n",
       " 'getActivePositions',\n",
       " 'getBarsProcessedEvent',\n",
       " 'getBroker',\n",
       " 'getCurrentDateTime',\n",
       " 'getDispatcher',\n",
       " 'getFeed',\n",
       " 'getLastPrice',\n",
       " 'getLogger',\n",
       " 'getNamedAnalyzer',\n",
       " 'getOrderToPosition',\n",
       " 'getResult',\n",
       " 'getSMA',\n",
       " 'getUseAdjustedValues',\n",
       " 'info',\n",
       " 'limitOrder',\n",
       " 'marketOrder',\n",
       " 'onBars',\n",
       " 'onEnterCanceled',\n",
       " 'onEnterOk',\n",
       " 'onExitCanceled',\n",
       " 'onExitOk',\n",
       " 'onFinish',\n",
       " 'onIdle',\n",
       " 'onOrderUpdated',\n",
       " 'onStart',\n",
       " 'prices',\n",
       " 'registerPositionOrder',\n",
       " 'resampleBarFeed',\n",
       " 'run',\n",
       " 'setDebugMode',\n",
       " 'setUseAdjustedValues',\n",
       " 'setUseEventDateTimeInLogs',\n",
       " 'sma',\n",
       " 'stop',\n",
       " 'stopLimitOrder',\n",
       " 'stopOrder',\n",
       " 'unregisterPosition',\n",
       " 'unregisterPositionOrder',\n",
       " 'warning']"
      ]
     },
     "execution_count": 49,
     "metadata": {},
     "output_type": "execute_result"
    }
   ],
   "source": [
    "myStr"
   ]
  },
  {
   "cell_type": "code",
   "execution_count": 51,
   "metadata": {},
   "outputs": [
    {
     "data": {
      "image/png": "[encoded data removed]",
      "text/plain": [
       "<Figure size 432x288 with 2 Axes>"
      ]
     },
     "metadata": {},
     "output_type": "display_data"
    }
   ],
   "source": [
    "import time\n",
    "from matplotlib import pyplot as plt\n",
    "import numpy as np\n",
    "\n",
    "\n",
    "def live_update_demo(blit = False):\n",
    "    x = np.linspace(0,50., num=100)\n",
    "    X,Y = np.meshgrid(x,x)\n",
    "    fig = plt.figure()\n",
    "    ax1 = fig.add_subplot(2, 1, 1)\n",
    "    ax2 = fig.add_subplot(2, 1, 2)\n",
    "\n",
    "    img = ax1.imshow(X, vmin=-1, vmax=1, interpolation=\"None\", cmap=\"RdBu\")\n",
    "\n",
    "\n",
    "    line, = ax2.plot([], lw=3)\n",
    "    text = ax2.text(0.8,0.5, \"\")\n",
    "\n",
    "    ax2.set_xlim(x.min(), x.max())\n",
    "    ax2.set_ylim([-1.1, 1.1])\n",
    "\n",
    "    fig.canvas.draw()   # note that the first draw comes before setting data \n",
    "\n",
    "\n",
    "    if blit:\n",
    "        # cache the background\n",
    "        axbackground = fig.canvas.copy_from_bbox(ax1.bbox)\n",
    "        ax2background = fig.canvas.copy_from_bbox(ax2.bbox)\n",
    "\n",
    "    plt.show(block=False)\n",
    "\n",
    "\n",
    "    t_start = time.time()\n",
    "    k=0.\n",
    "\n",
    "    for i in np.arange(1000):\n",
    "        img.set_data(np.sin(X/3.+k)*np.cos(Y/3.+k))\n",
    "        line.set_data(x, np.sin(x/3.+k))\n",
    "        tx = 'Mean Frame Rate:\\n {fps:.3f}FPS'.format(fps= ((i+1) / (time.time() - t_start)) ) \n",
    "        text.set_text(tx)\n",
    "        #print tx\n",
    "        k+=0.11\n",
    "        if blit:\n",
    "            # restore background\n",
    "            fig.canvas.restore_region(axbackground)\n",
    "            fig.canvas.restore_region(ax2background)\n",
    "\n",
    "            # redraw just the points\n",
    "            ax1.draw_artist(img)\n",
    "            ax2.draw_artist(line)\n",
    "            ax2.draw_artist(text)\n",
    "\n",
    "            # fill in the axes rectangle\n",
    "            fig.canvas.blit(ax1.bbox)\n",
    "            fig.canvas.blit(ax2.bbox)\n",
    "\n",
    "            # in this post http://bastibe.de/2013-05-30-speeding-up-matplotlib.html\n",
    "            # it is mentionned that blit causes strong memory leakage. \n",
    "            # however, I did not observe that.\n",
    "\n",
    "        else:\n",
    "            # redraw everything\n",
    "            fig.canvas.draw()\n",
    "\n",
    "        fig.canvas.flush_events()\n",
    "        #alternatively you could use\n",
    "        #plt.pause(0.000000000001) \n",
    "        # however plt.pause calls canvas.draw(), as can be read here:\n",
    "        #http://bastibe.de/2013-05-30-speeding-up-matplotlib.html\n",
    "\n",
    "\n",
    "live_update_demo(True)   # 175 fps\n",
    "#live_update_demo(False) # 28 fps"
   ]
  },
  {
   "cell_type": "code",
   "execution_count": 17,
   "metadata": {},
   "outputs": [],
   "source": [
    "import requieset. re\n",
    "ticker = ''\n",
    "url = 'https://finance.yahoo.com/quote/'+ticker+'+;'/profile'"
   ]
  },
  {
   "cell_type": "code",
   "execution_count": 18,
   "metadata": {},
   "outputs": [],
   "source": [
    "import re"
   ]
  },
  {
   "cell_type": "code",
   "execution_count": 19,
   "metadata": {},
   "outputs": [],
   "source": [
    "re.search('^<h1.+data-reactid=\"7\">.+', s)"
   ]
  },
  {
   "cell_type": "code",
   "execution_count": null,
   "metadata": {},
   "outputs": [],
   "source": []
  }
 ],
 "metadata": {
  "kernelspec": {
   "display_name": "Python 3",
   "language": "python",
   "name": "python3"
  },
  "language_info": {
   "codemirror_mode": {
    "name": "ipython",
    "version": 3
   },
   "file_extension": ".py",
   "mimetype": "text/x-python",
   "name": "python",
   "nbconvert_exporter": "python",
   "pygments_lexer": "ipython3",
   "version": "3.7.0"
  }
 },
 "nbformat": 4,
 "nbformat_minor": 4
}
