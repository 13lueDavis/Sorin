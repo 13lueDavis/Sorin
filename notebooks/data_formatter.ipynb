{
 "cells": [
  {
   "cell_type": "code",
   "execution_count": 1,
   "metadata": {},
   "outputs": [],
   "source": [
    "import pandas as pd\n",
    "import numpy as np\n",
    "import datetime\n",
    "import glob"
   ]
  },
  {
   "cell_type": "code",
   "execution_count": 9,
   "metadata": {},
   "outputs": [
    {
     "name": "stdout",
     "output_type": "stream",
     "text": [
      "CAT.USUSD_Candlestick_1_M_BID_11.05.2017-15.02.2020.csv\n"
     ]
    }
   ],
   "source": [
    "symbol = 'CAT'\n",
    "\n",
    "filename = glob.glob(\"../raw_data/{}*.csv\".format(symbol))[0].split('/')[2]\n",
    "print(filename)"
   ]
  },
  {
   "cell_type": "code",
   "execution_count": 8,
   "metadata": {},
   "outputs": [
    {
     "name": "stdout",
     "output_type": "stream",
     "text": [
      "Size:  1455900  datapoints\n",
      "                       Open    High     Low   Close  Volume\n",
      "Date Time                                                  \n",
      "2017-05-11 00:00:00  101.76  101.76  101.76  101.76     0.0\n",
      "2017-05-11 00:01:00  101.76  101.76  101.76  101.76     0.0\n",
      "2017-05-11 00:02:00  101.76  101.76  101.76  101.76     0.0\n",
      "2017-05-11 00:03:00  101.76  101.76  101.76  101.76     0.0\n",
      "2017-05-11 00:04:00  101.76  101.76  101.76  101.76     0.0\n",
      "                        Open     High      Low    Close  Volume\n",
      "Date Time                                                      \n",
      "2020-02-15 23:55:00  137.978  137.978  137.978  137.978     0.0\n",
      "2020-02-15 23:56:00  137.978  137.978  137.978  137.978     0.0\n",
      "2020-02-15 23:57:00  137.978  137.978  137.978  137.978     0.0\n",
      "2020-02-15 23:58:00  137.978  137.978  137.978  137.978     0.0\n",
      "2020-02-15 23:59:00  137.978  137.978  137.978  137.978     0.0\n"
     ]
    }
   ],
   "source": [
    "data = pd.read_csv('../raw_data/'+filename)\n",
    "print('Size: ', data.shape[0], ' datapoints')\n",
    "\n",
    "data = data.rename(columns={'Local time' : 'Date Time'})\n",
    "data['Date Time'] = data['Date Time'].apply(lambda d: datetime.datetime.strptime(d[:-14], '%d.%m.%Y %H:%M:%S').strftime('%Y-%m-%d %H:%M:%S'))\n",
    "data = data.set_index('Date Time')\n",
    "\n",
    "print(data.head())\n",
    "print(data.tail())"
   ]
  },
  {
   "cell_type": "code",
   "execution_count": 10,
   "metadata": {},
   "outputs": [],
   "source": [
    "def isTrading(data):\n",
    "    truth = np.array([dp.weekday() not in [5,6] for dp in data])\n",
    "    truth = np.vstack((truth, data.hour < 14))\n",
    "    truth = np.vstack((truth, np.vstack((data.hour > 7, np.vstack((data.hour == 7, data.minute >= 30)).all(axis=0))).any(axis=0)))\n",
    "                                 \n",
    "    return truth.all(axis=0)\n",
    "\n",
    "dateTimes = pd.to_datetime(data.index)\n",
    "tradingIdxs = isTrading(dateTimes)"
   ]
  },
  {
   "cell_type": "code",
   "execution_count": 11,
   "metadata": {},
   "outputs": [
    {
     "name": "stdout",
     "output_type": "stream",
     "text": [
      "                       Open    High     Low   Close  Volume\n",
      "Date Time                                                  \n",
      "2017-05-11 07:30:00  101.76  101.76  101.29  101.29    0.15\n",
      "2017-05-11 07:31:00  101.10  101.68  101.05  101.68    0.19\n",
      "2017-05-11 07:32:00  101.45  101.60  101.45  101.51    0.10\n",
      "2017-05-11 07:33:00  101.53  101.62  101.46  101.48    0.09\n",
      "2017-05-11 07:34:00  101.53  101.55  101.53  101.54    0.16\n",
      "                        Open     High      Low    Close  Volume\n",
      "Date Time                                                      \n",
      "2020-02-14 13:55:00  137.918  137.938  137.857  137.888  0.0930\n",
      "2020-02-14 13:56:00  137.898  138.038  137.888  138.038  0.0765\n",
      "2020-02-14 13:57:00  138.037  138.038  137.957  137.958  0.1258\n",
      "2020-02-14 13:58:00  137.938  138.008  137.937  137.987  0.1023\n",
      "2020-02-14 13:59:00  137.988  137.998  137.888  137.978  0.2017\n"
     ]
    }
   ],
   "source": [
    "tradingData = data[tradingIdxs]\n",
    "print(tradingData.head())\n",
    "print(tradingData.tail())"
   ]
  },
  {
   "cell_type": "code",
   "execution_count": 12,
   "metadata": {},
   "outputs": [],
   "source": [
    "tradingData.to_csv('../clean_data/'+filename)"
   ]
  },
  {
   "cell_type": "code",
   "execution_count": null,
   "metadata": {},
   "outputs": [],
   "source": []
  }
 ],
 "metadata": {
  "kernelspec": {
   "display_name": "Python 3",
   "language": "python",
   "name": "python3"
  },
  "language_info": {
   "codemirror_mode": {
    "name": "ipython",
    "version": 3
   },
   "file_extension": ".py",
   "mimetype": "text/x-python",
   "name": "python",
   "nbconvert_exporter": "python",
   "pygments_lexer": "ipython3",
   "version": "3.7.0"
  }
 },
 "nbformat": 4,
 "nbformat_minor": 4
}
